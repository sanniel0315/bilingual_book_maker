{
  "nbformat": 4,
  "nbformat_minor": 0,
  "metadata": {
    "colab": {
      "provenance": [],
      "include_colab_link": true
    },
    "kernelspec": {
      "name": "python3",
      "display_name": "Python 3"
    }
  },
  "cells": [
    {
      "cell_type": "markdown",
      "metadata": {
        "id": "view-in-github",
        "colab_type": "text"
      },
      "source": [
        "<a href=\"https://colab.research.google.com/github/sanniel0315/bilingual_book_maker/blob/main/%E3%80%8CSVM_classification_with_support_vectors_ipynb%E3%80%8D%E7%9A%84%E5%89%AF%E6%9C%AC.ipynb\" target=\"_parent\"><img src=\"https://colab.research.google.com/assets/colab-badge.svg\" alt=\"Open In Colab\"/></a>"
      ]
    },
    {
      "cell_type": "code",
      "metadata": {
        "id": "R2Qx46DeFsAd",
        "colab": {
          "base_uri": "https://localhost:8080/",
          "height": 547
        },
        "outputId": "172f1dcc-5d99-445f-884b-f77490b2fbdc"
      },
      "source": [
        "import cv2 as cv\n",
        "import numpy as np\n",
        "from google.colab.patches import cv2_imshow\n",
        "\n",
        "# Set up training data\n",
        "# (1) basic example:C=1\n",
        "#labels = np.array([1, -1, -1, -1])\n",
        "#trainingData = np.matrix([[501, 10], [255, 10], [501, 255], [10, 501]], dtype=np.float32)\n",
        "\n",
        "# (2) 4-point example:C=1\n",
        "labels = np.array([1, 1, -1, -1])\n",
        "trainingData = np.matrix([[300, 300], [400, 301], [300, 500], [400, 499]], dtype=np.float32)\n",
        "\n",
        "# (3) complicated example: please try to set C=0.00001 & C=1\n",
        "#labels = np.array([1, 1, 1, -1, -1, -1, -1, -1, -1, -1, -1, -1, -1, -1])\n",
        "#trainingData = np.matrix([[100, 100], [101, 200], [100, 300], [150, 200], [400, 50], [400, 100], [400, 200], [400,300], [400, 350], [500, 50], [500, 100], [500, 200], [500,300], [500, 350]], dtype=np.float32)\n",
        "\n",
        "\n",
        "# Train the SVM\n",
        "svm = cv.ml.SVM_create()\n",
        "svm.setType(cv.ml.SVM_C_SVC)\n",
        "svm.setKernel(cv.ml.SVM_LINEAR)\n",
        "svm.setTermCriteria((cv.TERM_CRITERIA_MAX_ITER, 100, 1e-6))\n",
        "#svm.setC(0.00001)\n",
        "svm.setC(1)\n",
        "\n",
        "svm.train(trainingData, cv.ml.ROW_SAMPLE, labels)\n",
        "\n",
        "# Data for visual representation\n",
        "width = 512\n",
        "height = 512\n",
        "image = np.zeros((height, width, 3), dtype=np.uint8)\n",
        "# Show the decision regions given by the SVM\n",
        "green = (0,255,0)\n",
        "blue = (255,0,0)\n",
        "for i in range(image.shape[0]):\n",
        "    for j in range(image.shape[1]):\n",
        "        sampleMat = np.matrix([[j,i]], dtype=np.float32)\n",
        "        response = svm.predict(sampleMat)[1]\n",
        "        if response == 1:\n",
        "            image[i,j] = green\n",
        "        elif response == -1:\n",
        "            image[i,j] = blue\n",
        "# Show the training data\n",
        "thickness = -1\n",
        "\n",
        "h, w = trainingData.shape\n",
        "\n",
        "for i in range(h):\n",
        "   if labels[i] == 1:\n",
        "       cv.circle(image, (int(trainingData[i,0]),  int(trainingData[i,1])), 5, (  0,   0,   0), thickness)\n",
        "   else:\n",
        "       cv.circle(image, (int(trainingData[i,0]),  int(trainingData[i,1])), 5, (  255,   255,   25), thickness)\n",
        "\n",
        "\n",
        "# Show support vectors\n",
        "thickness = 2\n",
        "sv = svm.getUncompressedSupportVectors()\n",
        "for i in range(sv.shape[0]):\n",
        "    cv.circle(image, (int(sv[i,0]), int(sv[i,1])), 6, (128, 128, 128), thickness)\n",
        "#cv.imwrite('result.png', image) # save the image\n",
        "cv2_imshow(image) # show it to the user\n",
        "\n",
        "print('the number of support vectors:{}'.format(sv.shape[0]))"
      ],
      "execution_count": null,
      "outputs": [
        {
          "output_type": "display_data",
          "data": {
            "text/plain": [
              "<PIL.Image.Image image mode=RGB size=512x512 at 0x7FCEB46FE850>"
            ],
            "image/png": "[encoded data removed]"
          },
          "metadata": {}
        },
        {
          "output_type": "stream",
          "name": "stdout",
          "text": [
            "the number of support vectors:4\n"
          ]
        }
      ]
    },
    {
      "cell_type": "code",
      "metadata": {
        "id": "e7A_8y0UE4wj",
        "colab": {
          "base_uri": "https://localhost:8080/"
        },
        "outputId": "7c59cc01-b71b-469c-9172-3e5179fbe2ec"
      },
      "source": [
        "3"
      ],
      "execution_count": null,
      "outputs": [
        {
          "output_type": "execute_result",
          "data": {
            "text/plain": [
              "3"
            ]
          },
          "metadata": {},
          "execution_count": 2
        }
      ]
    }
  ]
}